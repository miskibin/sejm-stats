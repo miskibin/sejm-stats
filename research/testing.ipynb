{
 "cells": [
  {
   "cell_type": "code",
   "execution_count": null,
   "metadata": {},
   "outputs": [
    {
     "ename": "",
     "evalue": "",
     "output_type": "error",
     "traceback": [
      "\u001b[1;31mRunning cells with 'Python 3.12.0' requires the ipykernel package.\n",
      "\u001b[1;31mRun the following command to install 'ipykernel' into the Python environment. \n",
      "\u001b[1;31mCommand: 'c:/Users/miskibin/AppData/Local/Programs/Python/Python312/python.exe -m pip install ipykernel -U --user --force-reinstall'"
     ]
    }
   ],
   "source": [
    "import pypdf\n",
    "import re\n",
    "import transformers\n",
    "import torch\n",
    "\n",
    "def extract_text_from_pdf(pdf_path):\n",
    "    text = \"\"\n",
    "    with open(pdf_path, \"rb\") as file:\n",
    "        pdf_reader = pypdf.PdfReader(file)\n",
    "        for page in pdf_reader.pages:\n",
    "            text += page.extract_text()\n",
    "    return text\n",
    "\n",
    "def clean_text(text):\n",
    "    # Remove headers, footers, and page numbers\n",
    "    cleaned_text = re.sub(r'^\\s*\\d+\\s*$', '', text, flags=re.MULTILINE)\n",
    "    cleaned_text = re.sub(r'Projekt\\s*$', '', cleaned_text, flags=re.MULTILINE)\n",
    "    \n",
    "    # Remove specific sections (customize as needed)\n",
    "    sections_to_remove = [\n",
    "        r'UZASADNIENIE',\n",
    "        r'OCENA SKUTKÓW REGULACJI',\n",
    "        r'Nazwa projektu',\n",
    "        r'Ministerstwo wiodące i ministerstwa współpracujące'\n",
    "    ]\n",
    "    for section in sections_to_remove:\n",
    "        cleaned_text = re.split(section, cleaned_text, flags=re.IGNORECASE)[0]\n",
    "    \n",
    "    # Remove extra whitespace\n",
    "    cleaned_text = re.sub(r'\\s+', ' ', cleaned_text).strip()\n",
    "    \n",
    "    return cleaned_text\n",
    "\n",
    "def create_ai_prompt(cleaned_text):\n",
    "    prompt = f\"\"\"Podsumuj poniższy projekt ustawy, koncentrując się na głównych zmianach i ich potencjalnym wpływie. Ogranicz podsumowanie do około 200 słów.\n",
    "\n",
    "Projekt ustawy:\n",
    "{cleaned_text}\n",
    "\n",
    "Podsumowanie:\"\"\"\n",
    "    return prompt\n"
   ]
  },
  {
   "cell_type": "code",
   "execution_count": null,
   "metadata": {},
   "outputs": [],
   "source": [
    "\n",
    "def run_ai_model(prompt):\n",
    "    model_id = \"RemekLlama-3-8B-Omnibus-1-PL-v01-INSTRUCT\"\n",
    "    model_id = \"meta-llama/Meta-Llama-3.1-8B\"\n",
    "\n",
    "    pipeline = transformers.pipeline(\n",
    "        task=\"text-generation\",\n",
    "        model=model_id,\n",
    "        model_kwargs={\"torch_dtype\": torch.bfloat16, \"device\": \"auto\"},\n",
    "    )\n",
    "    \n",
    "    messages = [\n",
    "        {\"role\": \"system\", \"content\": \"You are a helpful, smart, kind, and efficient AI assistant.\"},\n",
    "        {\"role\": \"user\", \"content\": prompt},\n",
    "    ]\n",
    "    \n",
    "    full_prompt = pipeline.tokenizer.apply_chat_template(messages, tokenize=False, add_generation_prompt=True)\n",
    "    \n",
    "    outputs = pipeline(\n",
    "        full_prompt,\n",
    "        max_new_tokens=256,\n",
    "        eos_token_id=[pipeline.tokenizer.eos_token_id],\n",
    "        do_sample=True,\n",
    "        temperature=0.6,\n",
    "        top_p=0.9,\n",
    "    )\n",
    "    \n",
    "    return outputs[0]['generated_text'][len(full_prompt):]\n",
    "\n"
   ]
  },
  {
   "cell_type": "code",
   "execution_count": null,
   "metadata": {},
   "outputs": [],
   "source": [
    "def summarize_projekt_ustawy(pdf_path):\n",
    "    # Step 1: Extract text from PDF\n",
    "    raw_text = extract_text_from_pdf(pdf_path)\n",
    "    \n",
    "    # Step 2: Clean the extracted text\n",
    "    cleaned_text = clean_text(raw_text)\n",
    "    \n",
    "    # Step 3: Create AI prompt\n",
    "    prompt = create_ai_prompt(cleaned_text)\n",
    "    \n",
    "    # Step 4: Run AI model\n",
    "    summary = run_ai_model(prompt)\n",
    "    \n",
    "    return summary\n",
    "\n",
    "# Example usage\n",
    "pdf_path = \"path/to/your/projekt_ustawy.pdf\"\n",
    "summary = summarize_projekt_ustawy(pdf_path)\n",
    "print(summary)"
   ]
  }
 ],
 "metadata": {
  "kernelspec": {
   "display_name": "Python 3",
   "language": "python",
   "name": "python3"
  },
  "language_info": {
   "name": "python",
   "version": "3.12.0"
  }
 },
 "nbformat": 4,
 "nbformat_minor": 2
}
